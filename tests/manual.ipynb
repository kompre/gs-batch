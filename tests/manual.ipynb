{
 "cells": [
  {
   "cell_type": "code",
   "execution_count": 1,
   "metadata": {},
   "outputs": [
    {
     "name": "stdout",
     "output_type": "stream",
     "text": [
      "Processing 5 file(s):\n",
      "  0) assets/originals\\file_0.pdf\n",
      "  1) assets/originals\\file_0_ corrupted.pdf\n",
      "  2) assets/originals\\file_1.pdf\n",
      "  3) assets/originals\\file_2.pdf\n",
      "  4) assets/originals\\file_3.pdf\n",
      "\n",
      " # |  Original  |    New     |   Ratio    |  Keeping   | Filename\n",
      " 0 |       0 KB |    ERROR: Ghostscript processing failed    | c:\\Users\\s.follador\\Documents\\github\\gs-batch\\tests\\assets\\originals\\file_0.pdf\n",
      " 1 |       0 KB |    ERROR: Ghostscript processing failed    | c:\\Users\\s.follador\\Documents\\github\\gs-batch\\tests\\assets\\originals\\file_0_ corrupted.pdf\n",
      " 2 |   5,408 KB |   5,408 KB |   100.000% |  original  | c:\\Users\\s.follador\\Documents\\github\\gs-batch\\tests\\assets\\output\\compressed_file_1.pdf\n",
      " 3 |   8,326 KB |   8,326 KB |   100.000% |  original  | c:\\Users\\s.follador\\Documents\\github\\gs-batch\\tests\\assets\\output\\compressed_file_2.pdf\n",
      " 4 |  11,851 KB |  11,851 KB |   100.000% |  original  | c:\\Users\\s.follador\\Documents\\github\\gs-batch\\tests\\assets\\output\\compressed_file_3.pdf\n",
      "\n",
      "Processed 3 of 5 files successfully. 2 file(s) failed.\n",
      "Total: 25,584 KB → 25,584 KB (100.0%)\n",
      "Total time: 1.53 seconds\n",
      "\n"
     ]
    }
   ],
   "source": [
    "from gs_batch.gs_batch import gs_batch as gsb\n",
    "\n",
    "from click.testing import CliRunner\n",
    "\n",
    "import glob\n",
    "\n",
    "files = glob.glob(\"assets/originals/*\")\n",
    "\n",
    "runner = CliRunner()\n",
    "result = runner.invoke(\n",
    "    gsb,\n",
    "    [\n",
    "        \"--compress=/ebook\",\n",
    "        \"--prefix=../output/compressed_\",\n",
    "        \"--pdfa\",\n",
    "        # \"--options=-dCompatibilityLevel=1.5 -dColorImageResolution=1\",\n",
    "        \"-v\",\n",
    "        \"--recursive\",\n",
    "    ] + files,\n",
    ")\n",
    "print(result.output)"
   ]
  },
  {
   "cell_type": "code",
   "execution_count": 2,
   "metadata": {},
   "outputs": [
    {
     "data": {
      "text/plain": [
       "'C:/Users/s.follador/Documents/github/gs-batch/gs_batch/assets/PDFA_def.ps'"
      ]
     },
     "execution_count": 2,
     "metadata": {},
     "output_type": "execute_result"
    }
   ],
   "source": [
    "from importlib.resources import files, as_file\n",
    "\n",
    "\n",
    "str(files(\"gs_batch.assets\").joinpath(\"PDFA_def.ps\")).replace('\\\\', '/')\n",
    "\n",
    "# with resources.path(\"gs_batch.assets\", \"PDFA_def.ps\") as f:\n",
    "#     print(f)"
   ]
  },
  {
   "cell_type": "code",
   "execution_count": 3,
   "metadata": {},
   "outputs": [],
   "source": [
    "with open('assets/originals/file_0_ corrupted.pdf', 'rb') as f:\n",
    "    f.read()"
   ]
  },
  {
   "cell_type": "code",
   "execution_count": 4,
   "metadata": {},
   "outputs": [],
   "source": [
    "import subprocess\n",
    "\n",
    "cmd = [\n",
    "    \"gswin64c\",\n",
    "    \"-dPDFINFO\",\n",
    "    \"-dBATCH\",\n",
    "    \"-dNODISPLAY\",\n",
    "    \"assets/originals/0.pdf\",\n",
    "]\n",
    "\n",
    "try:\n",
    "    result = subprocess.Popen(\n",
    "        cmd,\n",
    "        # stdin=subprocess.PIPE,\n",
    "        stdout=subprocess.PIPE,\n",
    "        stderr=subprocess.STDOUT,\n",
    "        text=True,\n",
    "    )\n",
    "except subprocess.CalledProcessError as e:\n",
    "    print(e)\n",
    "\n",
    "\n",
    "# out, err = result.communicate()\n",
    "# result.stdout\n",
    "# for line in result.stderr:\n",
    "#     print(line.decode(\"utf-8\", errors=\"ignore\"), end=\"\")\n",
    "# # print((result.stdout).decode('utf-8'))\n",
    "# print(result.stderr)"
   ]
  },
  {
   "cell_type": "code",
   "execution_count": 5,
   "metadata": {},
   "outputs": [
    {
     "name": "stdout",
     "output_type": "stream",
     "text": [
      "GPL Ghostscript 10.04.0 (2024-09-18)\n",
      "\n",
      "Copyright (C) 2024 Artifex Software, Inc.  All rights reserved.\n",
      "\n",
      "This software is supplied under the GNU AGPLv3 and comes with NO WARRANTY:\n",
      "\n",
      "see the file COPYING for details.\n",
      "\n",
      "Error: /undefinedfilename in (assets/originals/0.pdf)\n",
      "\n",
      "Operand stack:\n",
      "\n",
      "\n",
      "\n",
      "Execution stack:\n",
      "\n",
      "   %interp_exit   .runexec2   --nostringval--   --nostringval--   --nostringval--   2   %stopped_push   --nostringval--   --nostringval--   --nostringval--   false   1   %stopped_push\n",
      "\n",
      "Dictionary stack:\n",
      "\n",
      "   --dict:748/1123(ro)(G)--   --dict:0/20(G)--   --dict:85/200(L)--\n",
      "\n",
      "Current allocation mode is local\n",
      "\n",
      "Last OS error: No such file or directory\n",
      "\n",
      "GPL Ghostscript 10.04.0: Unrecoverable error, exit code 1\n",
      "\n"
     ]
    }
   ],
   "source": [
    "for l in result.stdout:\n",
    "    print(l)"
   ]
  },
  {
   "cell_type": "code",
   "execution_count": 6,
   "metadata": {},
   "outputs": [],
   "source": [
    "for l in result.stdout:\n",
    "    print(l)"
   ]
  },
  {
   "cell_type": "code",
   "execution_count": 7,
   "metadata": {},
   "outputs": [
    {
     "ename": "CalledProcessError",
     "evalue": "Command '['gswin64c', '-dPDFINFO', '-dBATCH', '-dNODISPLAY', 'assets/originals/0.pdf']' returned non-zero exit status 1.",
     "output_type": "error",
     "traceback": [
      "\u001b[1;31m---------------------------------------------------------------------------\u001b[0m",
      "\u001b[1;31mCalledProcessError\u001b[0m                        Traceback (most recent call last)",
      "Cell \u001b[1;32mIn[7], line 1\u001b[0m\n\u001b[1;32m----> 1\u001b[0m \u001b[38;5;28mprint\u001b[39m(\u001b[43msubprocess\u001b[49m\u001b[38;5;241;43m.\u001b[39;49m\u001b[43mcheck_output\u001b[49m\u001b[43m(\u001b[49m\n\u001b[0;32m      2\u001b[0m \u001b[43m    \u001b[49m\u001b[43mcmd\u001b[49m\u001b[43m,\u001b[49m\n\u001b[0;32m      3\u001b[0m \u001b[43m    \u001b[49m\u001b[38;5;66;43;03m# stderr=subprocess.STDOUT,\u001b[39;49;00m\n\u001b[0;32m      4\u001b[0m \u001b[43m    \u001b[49m\u001b[43mtext\u001b[49m\u001b[38;5;241;43m=\u001b[39;49m\u001b[38;5;28;43;01mTrue\u001b[39;49;00m\u001b[43m,\u001b[49m\n\u001b[0;32m      5\u001b[0m \u001b[43m    \u001b[49m\u001b[43mshell\u001b[49m\u001b[38;5;241;43m=\u001b[39;49m\u001b[38;5;28;43;01mTrue\u001b[39;49;00m\u001b[43m,\u001b[49m\n\u001b[0;32m      6\u001b[0m \u001b[43m    \u001b[49m\u001b[43mtimeout\u001b[49m\u001b[38;5;241;43m=\u001b[39;49m\u001b[38;5;241;43m3\u001b[39;49m\u001b[43m,\u001b[49m\n\u001b[0;32m      7\u001b[0m \u001b[43m    \u001b[49m\u001b[43muniversal_newlines\u001b[49m\u001b[38;5;241;43m=\u001b[39;49m\u001b[38;5;28;43;01mTrue\u001b[39;49;00m\n\u001b[0;32m      8\u001b[0m \u001b[43m)\u001b[49m)\n",
      "File \u001b[1;32m~\\AppData\\Local\\Programs\\Python\\Python312\\Lib\\subprocess.py:466\u001b[0m, in \u001b[0;36mcheck_output\u001b[1;34m(timeout, *popenargs, **kwargs)\u001b[0m\n\u001b[0;32m    463\u001b[0m         empty \u001b[38;5;241m=\u001b[39m \u001b[38;5;124mb\u001b[39m\u001b[38;5;124m'\u001b[39m\u001b[38;5;124m'\u001b[39m\n\u001b[0;32m    464\u001b[0m     kwargs[\u001b[38;5;124m'\u001b[39m\u001b[38;5;124minput\u001b[39m\u001b[38;5;124m'\u001b[39m] \u001b[38;5;241m=\u001b[39m empty\n\u001b[1;32m--> 466\u001b[0m \u001b[38;5;28;01mreturn\u001b[39;00m \u001b[43mrun\u001b[49m\u001b[43m(\u001b[49m\u001b[38;5;241;43m*\u001b[39;49m\u001b[43mpopenargs\u001b[49m\u001b[43m,\u001b[49m\u001b[43m \u001b[49m\u001b[43mstdout\u001b[49m\u001b[38;5;241;43m=\u001b[39;49m\u001b[43mPIPE\u001b[49m\u001b[43m,\u001b[49m\u001b[43m \u001b[49m\u001b[43mtimeout\u001b[49m\u001b[38;5;241;43m=\u001b[39;49m\u001b[43mtimeout\u001b[49m\u001b[43m,\u001b[49m\u001b[43m \u001b[49m\u001b[43mcheck\u001b[49m\u001b[38;5;241;43m=\u001b[39;49m\u001b[38;5;28;43;01mTrue\u001b[39;49;00m\u001b[43m,\u001b[49m\n\u001b[0;32m    467\u001b[0m \u001b[43m           \u001b[49m\u001b[38;5;241;43m*\u001b[39;49m\u001b[38;5;241;43m*\u001b[39;49m\u001b[43mkwargs\u001b[49m\u001b[43m)\u001b[49m\u001b[38;5;241m.\u001b[39mstdout\n",
      "File \u001b[1;32m~\\AppData\\Local\\Programs\\Python\\Python312\\Lib\\subprocess.py:571\u001b[0m, in \u001b[0;36mrun\u001b[1;34m(input, capture_output, timeout, check, *popenargs, **kwargs)\u001b[0m\n\u001b[0;32m    569\u001b[0m     retcode \u001b[38;5;241m=\u001b[39m process\u001b[38;5;241m.\u001b[39mpoll()\n\u001b[0;32m    570\u001b[0m     \u001b[38;5;28;01mif\u001b[39;00m check \u001b[38;5;129;01mand\u001b[39;00m retcode:\n\u001b[1;32m--> 571\u001b[0m         \u001b[38;5;28;01mraise\u001b[39;00m CalledProcessError(retcode, process\u001b[38;5;241m.\u001b[39margs,\n\u001b[0;32m    572\u001b[0m                                  output\u001b[38;5;241m=\u001b[39mstdout, stderr\u001b[38;5;241m=\u001b[39mstderr)\n\u001b[0;32m    573\u001b[0m \u001b[38;5;28;01mreturn\u001b[39;00m CompletedProcess(process\u001b[38;5;241m.\u001b[39margs, retcode, stdout, stderr)\n",
      "\u001b[1;31mCalledProcessError\u001b[0m: Command '['gswin64c', '-dPDFINFO', '-dBATCH', '-dNODISPLAY', 'assets/originals/0.pdf']' returned non-zero exit status 1."
     ]
    }
   ],
   "source": [
    "print(subprocess.check_output(\n",
    "    cmd,\n",
    "    # stderr=subprocess.STDOUT,\n",
    "    text=True,\n",
    "    shell=True,\n",
    "    timeout=3,\n",
    "    universal_newlines=True\n",
    "))"
   ]
  },
  {
   "cell_type": "code",
   "execution_count": null,
   "metadata": {},
   "outputs": [],
   "source": [
    "\n",
    "def func():\n",
    "    try:\n",
    "        1/0\n",
    "    except Exception as e:\n",
    "        print(f'{e=}')\n",
    "        return\n",
    "        \n",
    "    print('banana')\n",
    "    \n",
    "    \n",
    "    \n",
    "func()"
   ]
  },
  {
   "cell_type": "code",
   "execution_count": null,
   "metadata": {},
   "outputs": [],
   "source": []
  }
 ],
 "metadata": {
  "kernelspec": {
   "display_name": ".venv",
   "language": "python",
   "name": "python3"
  },
  "language_info": {
   "codemirror_mode": {
    "name": "ipython",
    "version": 3
   },
   "file_extension": ".py",
   "mimetype": "text/x-python",
   "name": "python",
   "nbconvert_exporter": "python",
   "pygments_lexer": "ipython3",
   "version": "3.12.10"
  }
 },
 "nbformat": 4,
 "nbformat_minor": 2
}
