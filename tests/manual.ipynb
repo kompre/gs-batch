{
 "cells": [
  {
   "cell_type": "code",
   "execution_count": 3,
   "metadata": {},
   "outputs": [
    {
     "name": "stdout",
     "output_type": "stream",
     "text": [
      "Processing 3 file(s):\n",
      "  0) assets/originals\\file_1.pdf\n",
      "  1) assets/originals\\file_2.pdf\n",
      "  2) assets/originals\\file_3.pdf\n",
      "\n",
      " # |  Original  |    New     |   Ratio    |  Keeping   | Filename\n",
      " 0 |     554 KB |      69 KB |    12.537% |    new     | c:\\Users\\s.follador\\Documents\\github\\gs-batch\\tests\\assets\\output\\compressed_file_1.pdf\n",
      " 1 |   1,604 KB |     961 KB |    59.898% |    new     | c:\\Users\\s.follador\\Documents\\github\\gs-batch\\tests\\assets\\output\\compressed_file_2.pdf\n",
      " 2 |   2,757 KB |   1,838 KB |    66.656% |    new     | c:\\Users\\s.follador\\Documents\\github\\gs-batch\\tests\\assets\\output\\compressed_file_3.pdf\n",
      "\n",
      "Total time: 1.72 seconds\n",
      "\n"
     ]
    }
   ],
   "source": [
    "from gs_batch.gs_batch import gs_batch as gsb\n",
    "\n",
    "from click.testing import CliRunner\n",
    "\n",
    "import glob\n",
    "\n",
    "files = glob.glob(\"assets/originals/*\")\n",
    "\n",
    "runner = CliRunner()\n",
    "result = runner.invoke(\n",
    "    gsb,\n",
    "    [\n",
    "        \"--compress=/ebook\",\n",
    "        \"--prefix=../output/compressed_\",\n",
    "        \"--pdfa=2\",\n",
    "        # \"--options=-dCompatibilityLevel=1.5 -dColorImageResolution=1\",\n",
    "        \"-v\",\n",
    "    ] + files,\n",
    ")\n",
    "print(result.output)"
   ]
  },
  {
   "cell_type": "code",
   "execution_count": 2,
   "metadata": {},
   "outputs": [
    {
     "data": {
      "text/plain": [
       "'C:/Users/s.follador/Documents/github/gs-batch/gs_batch/assets/PDFA_def.ps'"
      ]
     },
     "execution_count": 2,
     "metadata": {},
     "output_type": "execute_result"
    }
   ],
   "source": [
    "from importlib.resources import files, as_file\n",
    "\n",
    "\n",
    "str(files(\"gs_batch.assets\").joinpath(\"PDFA_def.ps\")).replace('\\\\', '/')\n",
    "\n",
    "# with resources.path(\"gs_batch.assets\", \"PDFA_def.ps\") as f:\n",
    "#     print(f)"
   ]
  },
  {
   "cell_type": "code",
   "execution_count": 1,
   "metadata": {},
   "outputs": [],
   "source": [
    "with open('assets/originals/file_0_ corrupted.pdf', 'rb') as f:\n",
    "    f.read()"
   ]
  },
  {
   "cell_type": "code",
   "execution_count": 51,
   "metadata": {},
   "outputs": [],
   "source": [
    "import subprocess\n",
    "\n",
    "cmd = [\n",
    "    \"gswin64c\",\n",
    "    \"-dPDFINFO\",\n",
    "    \"-dBATCH\",\n",
    "    \"-dNODISPLAY\",\n",
    "    \"assets/originals/0.pdf\",\n",
    "]\n",
    "\n",
    "try:\n",
    "    result = subprocess.Popen(\n",
    "        cmd,\n",
    "        # stdin=subprocess.PIPE,\n",
    "        stdout=subprocess.PIPE,\n",
    "        stderr=subprocess.STDOUT,\n",
    "        text=True,\n",
    "    )\n",
    "except subprocess.CalledProcessError as e:\n",
    "    print(e)\n",
    "\n",
    "\n",
    "# out, err = result.communicate()\n",
    "# result.stdout\n",
    "# for line in result.stderr:\n",
    "#     print(line.decode(\"utf-8\", errors=\"ignore\"), end=\"\")\n",
    "# # print((result.stdout).decode('utf-8'))\n",
    "# print(result.stderr)"
   ]
  },
  {
   "cell_type": "code",
   "execution_count": 52,
   "metadata": {},
   "outputs": [
    {
     "name": "stdout",
     "output_type": "stream",
     "text": [
      "GPL Ghostscript 10.04.0 (2024-09-18)\n",
      "\n",
      "Copyright (C) 2024 Artifex Software, Inc.  All rights reserved.\n",
      "\n",
      "This software is supplied under the GNU AGPLv3 and comes with NO WARRANTY:\n",
      "\n",
      "see the file COPYING for details.\n",
      "\n"
     ]
    }
   ],
   "source": [
    "for l in result.stdout:\n",
    "    print(l)"
   ]
  },
  {
   "cell_type": "code",
   "execution_count": 14,
   "metadata": {},
   "outputs": [
    {
     "ename": "ValueError",
     "evalue": "I/O operation on closed file.",
     "output_type": "error",
     "traceback": [
      "\u001b[1;31m---------------------------------------------------------------------------\u001b[0m",
      "\u001b[1;31mValueError\u001b[0m                                Traceback (most recent call last)",
      "Cell \u001b[1;32mIn[14], line 1\u001b[0m\n\u001b[1;32m----> 1\u001b[0m \u001b[38;5;28;43;01mfor\u001b[39;49;00m\u001b[43m \u001b[49m\u001b[43ml\u001b[49m\u001b[43m \u001b[49m\u001b[38;5;129;43;01min\u001b[39;49;00m\u001b[43m \u001b[49m\u001b[43mresult\u001b[49m\u001b[38;5;241;43m.\u001b[39;49m\u001b[43mstdout\u001b[49m\u001b[43m:\u001b[49m\n\u001b[0;32m      2\u001b[0m \u001b[43m    \u001b[49m\u001b[38;5;28;43mprint\u001b[39;49m\u001b[43m(\u001b[49m\u001b[43ml\u001b[49m\u001b[43m)\u001b[49m\n",
      "\u001b[1;31mValueError\u001b[0m: I/O operation on closed file."
     ]
    }
   ],
   "source": [
    "for l in result.stdout:\n",
    "    print(l)"
   ]
  },
  {
   "cell_type": "code",
   "execution_count": 11,
   "metadata": {},
   "outputs": [
    {
     "name": "stdout",
     "output_type": "stream",
     "text": [
      "GPL Ghostscript 10.04.0 (2024-09-18)\n",
      "Copyright (C) 2024 Artifex Software, Inc.  All rights reserved.\n",
      "This software is supplied under the GNU AGPLv3 and comes with NO WARRANTY:\n",
      "see the file COPYING for details.\n",
      "Processing pages 1 through 2.\n",
      "\n"
     ]
    }
   ],
   "source": [
    "print(subprocess.check_output(\n",
    "    cmd,\n",
    "    # stderr=subprocess.STDOUT,\n",
    "    text=True,\n",
    "    shell=True,\n",
    "    timeout=3,\n",
    "    universal_newlines=True\n",
    "))"
   ]
  },
  {
   "cell_type": "code",
   "execution_count": 63,
   "metadata": {},
   "outputs": [
    {
     "name": "stdout",
     "output_type": "stream",
     "text": [
      "e=ZeroDivisionError('division by zero')\n"
     ]
    }
   ],
   "source": [
    "\n",
    "def func():\n",
    "    try:\n",
    "        1/0\n",
    "    except Exception as e:\n",
    "        print(f'{e=}')\n",
    "        return\n",
    "        \n",
    "    print('banana')\n",
    "    \n",
    "    \n",
    "    \n",
    "func()"
   ]
  },
  {
   "cell_type": "code",
   "execution_count": null,
   "metadata": {},
   "outputs": [],
   "source": []
  }
 ],
 "metadata": {
  "kernelspec": {
   "display_name": "gs-batch-E7aw4CYv-py3.12",
   "language": "python",
   "name": "python3"
  },
  "language_info": {
   "codemirror_mode": {
    "name": "ipython",
    "version": 3
   },
   "file_extension": ".py",
   "mimetype": "text/x-python",
   "name": "python",
   "nbconvert_exporter": "python",
   "pygments_lexer": "ipython3",
   "version": "3.12.4"
  }
 },
 "nbformat": 4,
 "nbformat_minor": 2
}
