{
 "cells": [
  {
   "cell_type": "code",
   "execution_count": 12,
   "metadata": {},
   "outputs": [
    {
     "name": "stdout",
     "output_type": "stream",
     "text": [
      "Processing 12 file(s):\n",
      "   0) assets/originals/file_3 copy.pdf\n",
      "   1) assets/originals/file_1 copy 2.pdf\n",
      "   2) assets/originals/file_1 copy.pdf\n",
      "   3) assets/originals/file_2 copy 2.pdf\n",
      "   4) assets/originals/file_3 copy 2.pdf\n",
      "   5) assets/originals/file_2 copy.pdf\n",
      "   6) assets/originals/file_3 copy 3.pdf\n",
      "   7) assets/originals/file_1 copy 3.pdf\n",
      "   8) assets/originals/file_3.pdf\n",
      "   9) assets/originals/file_2.pdf\n",
      "  10) assets/originals/file_2 copy 3.pdf\n",
      "  11) assets/originals/file_1.pdf\n",
      "\n",
      "  # |  Original  |    New     |   Ratio    |  Keeping   | Filename\n",
      "  0 |   2,757 KB |      28 KB |     0.999% |    new     | /home/kompre/github/gs-batch/tests/assets/output/compressed_file_3 copy.pdf\n",
      "  1 |     554 KB |      15 KB |     2.753% |    new     | /home/kompre/github/gs-batch/tests/assets/output/compressed_file_1 copy 2.pdf\n",
      "  2 |     554 KB |      15 KB |     2.753% |    new     | /home/kompre/github/gs-batch/tests/assets/output/compressed_file_1 copy.pdf\n",
      "  3 |   1,604 KB |      21 KB |     1.299% |    new     | /home/kompre/github/gs-batch/tests/assets/output/compressed_file_2 copy 2.pdf\n",
      "  4 |   2,757 KB |      28 KB |     0.999% |    new     | /home/kompre/github/gs-batch/tests/assets/output/compressed_file_3 copy 2.pdf\n",
      "  5 |   1,604 KB |      21 KB |     1.299% |    new     | /home/kompre/github/gs-batch/tests/assets/output/compressed_file_2 copy.pdf\n",
      "  6 |   2,757 KB |      28 KB |     0.999% |    new     | /home/kompre/github/gs-batch/tests/assets/output/compressed_file_3 copy 3.pdf\n",
      "  7 |     554 KB |      15 KB |     2.753% |    new     | /home/kompre/github/gs-batch/tests/assets/output/compressed_file_1 copy 3.pdf\n",
      "  8 |   2,757 KB |      28 KB |     0.999% |    new     | /home/kompre/github/gs-batch/tests/assets/output/compressed_file_3.pdf\n",
      "  9 |   1,604 KB |      21 KB |     1.299% |    new     | /home/kompre/github/gs-batch/tests/assets/output/compressed_file_2.pdf\n",
      " 10 |   1,604 KB |      21 KB |     1.299% |    new     | /home/kompre/github/gs-batch/tests/assets/output/compressed_file_2 copy 3.pdf\n",
      " 11 |     554 KB |      15 KB |     2.753% |    new     | /home/kompre/github/gs-batch/tests/assets/output/compressed_file_1.pdf\n",
      "\n",
      "Total time: 3.45 seconds\n",
      "\n"
     ]
    },
    {
     "name": "stderr",
     "output_type": "stream",
     "text": [
      "Gtk-Message: 18:59:11.189: Failed to load module \"xapp-gtk3-module\"\n",
      "ImportError: could not import gobject (error was: ModuleNotFoundError(\"No module named 'gi'\"))\n",
      "\n",
      "(org.gnome.Nautilus:47642): Nautilus-Python-WARNING **: 18:59:11.647: pygobject initialization failed\n",
      "\n",
      "(org.gnome.Nautilus:47642): Nautilus-Python-WARNING **: 18:59:11.647: nautilus_python_init_python failed\n"
     ]
    }
   ],
   "source": [
    "from gs_batch.gs_batch import gs_batch as gsb\n",
    "\n",
    "from click.testing import CliRunner\n",
    "\n",
    "import glob\n",
    "\n",
    "files = glob.glob(\"assets/originals/*\")\n",
    "\n",
    "runner = CliRunner()\n",
    "result = runner.invoke(\n",
    "    gsb,\n",
    "    [\n",
    "        \"--compress=/ebook\",\n",
    "        \"--prefix=../output/compressed_\",\n",
    "        \"--pdfa=3\",\n",
    "        \"--options=-dCompatibilityLevel=1.5 -dColorImageResolution=1\",\n",
    "    ] + files,\n",
    ")\n",
    "print(result.output)"
   ]
  },
  {
   "cell_type": "code",
   "execution_count": null,
   "metadata": {},
   "outputs": [],
   "source": []
  }
 ],
 "metadata": {
  "kernelspec": {
   "display_name": "gs-batch-E7aw4CYv-py3.12",
   "language": "python",
   "name": "python3"
  },
  "language_info": {
   "codemirror_mode": {
    "name": "ipython",
    "version": 3
   },
   "file_extension": ".py",
   "mimetype": "text/x-python",
   "name": "python",
   "nbconvert_exporter": "python",
   "pygments_lexer": "ipython3",
   "version": "3.12.6"
  }
 },
 "nbformat": 4,
 "nbformat_minor": 2
}
